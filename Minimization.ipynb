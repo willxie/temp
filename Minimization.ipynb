{
 "cells": [
  {
   "cell_type": "code",
   "execution_count": 1,
   "metadata": {
    "collapsed": false
   },
   "outputs": [
    {
     "data": {
      "image/png": "[encoded data removed]",
      "text/plain": [
       "<matplotlib.figure.Figure at 0x10bde4f50>"
      ]
     },
     "metadata": {},
     "output_type": "display_data"
    },
    {
     "data": {
      "text/plain": [
       "-0.1742600001826915"
      ]
     },
     "execution_count": 1,
     "metadata": {},
     "output_type": "execute_result"
    }
   ],
   "source": [
    "%matplotlib inline\n",
    "\n",
    "import random\n",
    "import numpy as np\n",
    "import matplotlib.pyplot as plt\n",
    "\n",
    "# Generate random value between -5 to 5\n",
    "def gen_vector(n):\n",
    "    return [ (random.random() - 0.5) * 10 for i in range(10) ]\n",
    "\n",
    "def objective(x, y, b):\n",
    "    return np.linalg.norm(b*x - y, ord=1)\n",
    "#random.seed(163)\n",
    "\n",
    "n = 20\n",
    "x = np.array(gen_vector(n))\n",
    "y = np.array(gen_vector(n))\n",
    "\n",
    "beta_list = np.arange(-5.0, 5.0, 0.00001)\n",
    "\n",
    "obj = np.array([ objective(x, y, b) for b in beta_list ] )\n",
    "\n",
    "plt.plot(obj)\n",
    "plt.show()\n",
    "\n",
    "b_optimal = beta_list[np.argmin(obj)]\n",
    "\n",
    "b_optimal"
   ]
  },
  {
   "cell_type": "code",
   "execution_count": 2,
   "metadata": {
    "collapsed": false
   },
   "outputs": [
    {
     "data": {
      "text/plain": [
       "-0.17419302991461694"
      ]
     },
     "execution_count": 2,
     "metadata": {},
     "output_type": "execute_result"
    }
   ],
   "source": [
    "def num_der(x, y, b, d):\n",
    "    return (objective(x, y, b+d) - objective(x, y, b-d)) / (2*d)\n",
    "\n",
    "# Small number used to computer derivative\n",
    "d = 0.0001\n",
    "\n",
    "# Initial guess\n",
    "beta = random.uniform(-5.0, 5.0)\n",
    "beta = 0.5\n",
    "# Learning rate\n",
    "r = 1.0 / 20 * 0.01\n",
    "\n",
    "init_slope = num_der(x, y, beta, d)\n",
    "init_sign = np.sign(init_slope)\n",
    "next_slope = int(init_slope)\n",
    "next_sign = init_sign\n",
    "while (next_sign == init_sign):\n",
    "    beta = beta - r * next_slope\n",
    "    next_slope = num_der(x, y, beta, d)\n",
    "    next_sign = int(np.sign(next_slope))\n",
    "    \n",
    "beta"
   ]
  },
  {
   "cell_type": "code",
   "execution_count": null,
   "metadata": {
    "collapsed": true
   },
   "outputs": [],
   "source": []
  }
 ],
 "metadata": {
  "kernelspec": {
   "display_name": "Python 2",
   "language": "python",
   "name": "python2"
  },
  "language_info": {
   "codemirror_mode": {
    "name": "ipython",
    "version": 2
   },
   "file_extension": ".py",
   "mimetype": "text/x-python",
   "name": "python",
   "nbconvert_exporter": "python",
   "pygments_lexer": "ipython2",
   "version": "2.7.13"
  }
 },
 "nbformat": 4,
 "nbformat_minor": 1
}
