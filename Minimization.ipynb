{
 "cells": [
  {
   "cell_type": "markdown",
   "metadata": {},
   "source": [
    "## Brute force min search"
   ]
  },
  {
   "cell_type": "code",
   "execution_count": 8,
   "metadata": {
    "collapsed": false
   },
   "outputs": [
    {
     "data": {
      "image/png": "[encoded data removed]",
      "text/plain": [
       "<matplotlib.figure.Figure at 0x10d75abd0>"
      ]
     },
     "metadata": {},
     "output_type": "display_data"
    },
    {
     "data": {
      "image/png": "[encoded data removed]",
      "text/plain": [
       "<matplotlib.figure.Figure at 0x10d738c10>"
      ]
     },
     "metadata": {},
     "output_type": "display_data"
    },
    {
     "data": {
      "text/plain": [
       "-0.68639999836295829"
      ]
     },
     "execution_count": 8,
     "metadata": {},
     "output_type": "execute_result"
    }
   ],
   "source": [
    "%matplotlib inline\n",
    "\n",
    "import random\n",
    "import numpy as np\n",
    "import matplotlib.pyplot as plt\n",
    "\n",
    "# Generate random value between -5 to 5\n",
    "def gen_vector(n):\n",
    "    return [ (random.random()-0.5) * 10 for i in range(10) ]\n",
    "\n",
    "# || beta * x - y ||_1\n",
    "def objective(x, y, b):\n",
    "    return np.linalg.norm(b*x - y, ord=1)\n",
    "#random.seed(163)\n",
    "\n",
    "def num_der(x, y, b, d):\n",
    "    return (objective(x, y, b+d) - objective(x, y, b-d)) / (2*d)\n",
    "\n",
    "n = 20\n",
    "x = np.array(gen_vector(n))\n",
    "y = np.array(gen_vector(n))\n",
    "# x = np.array([1,2,3])\n",
    "# y = np.array([4,5,6])\n",
    "\n",
    "beta_list = np.arange(-50.0, 50.0, 0.0001)\n",
    "\n",
    "obj = np.array([ objective(x, y, b) for b in beta_list ] )\n",
    "obj_dir = np.array([ num_der(x, y, b, 0.0001) for b in beta_list ])\n",
    "\n",
    "plt.figure()\n",
    "plt.plot(obj)\n",
    "plt.figure()\n",
    "plt.plot(obj_dir)\n",
    "plt.show()\n",
    "\n",
    "b_optimal = beta_list[np.argmin(obj)]\n",
    "\n",
    "b_optimal"
   ]
  },
  {
   "cell_type": "markdown",
   "metadata": {},
   "source": [
    "## Gradient descend"
   ]
  },
  {
   "cell_type": "code",
   "execution_count": 9,
   "metadata": {
    "collapsed": false
   },
   "outputs": [
    {
     "data": {
      "text/plain": [
       "-0.68652219666818226"
      ]
     },
     "execution_count": 9,
     "metadata": {},
     "output_type": "execute_result"
    }
   ],
   "source": [
    "# Small number used to computer derivative\n",
    "d = 0.0001\n",
    "\n",
    "# Initial guess\n",
    "beta = random.uniform(-5.0, 5.0)\n",
    "beta = 0.0\n",
    "# Learning rate\n",
    "r = 1.0 / 20 * 0.01\n",
    "\n",
    "init_slope = num_der(x, y, beta, d)\n",
    "init_sign = np.sign(init_slope)\n",
    "next_slope = int(init_slope)\n",
    "next_sign = init_sign\n",
    "while (next_sign == init_sign):\n",
    "    beta = beta - r * next_slope\n",
    "    next_slope = num_der(x, y, beta, d)\n",
    "    next_sign = int(np.sign(next_slope))\n",
    "    \n",
    "beta"
   ]
  },
  {
   "cell_type": "markdown",
   "metadata": {},
   "source": [
    "## Critical beta search O(n)"
   ]
  },
  {
   "cell_type": "code",
   "execution_count": 11,
   "metadata": {
    "collapsed": false
   },
   "outputs": [
    {
     "data": {
      "text/plain": [
       "-0.68644698810850779"
      ]
     },
     "execution_count": 11,
     "metadata": {},
     "output_type": "execute_result"
    }
   ],
   "source": [
    "\n",
    "def find_crit_betas(x, y):\n",
    "    b_list = []\n",
    "    for pair in zip(x,y):\n",
    "        # Solve for optimal beta in every dimention\n",
    "        x_i = pair[0]\n",
    "        y_i = pair[1]\n",
    "        b_i = float(y_i) / x_i\n",
    "        b_list.append(b_i)\n",
    "        \n",
    "    return b_list\n",
    "\n",
    "b_list = find_crit_betas(x, y)\n",
    "o_min = objective(x, y, 0)\n",
    "b_argmin = 0\n",
    "for b in b_list:\n",
    "    o = objective(x, y, b)\n",
    "    if o < o_min:\n",
    "        o_min = o\n",
    "        b_argmin = b\n",
    "        \n",
    "b_argmin"
   ]
  },
  {
   "cell_type": "code",
   "execution_count": null,
   "metadata": {
    "collapsed": true
   },
   "outputs": [],
   "source": []
  }
 ],
 "metadata": {
  "kernelspec": {
   "display_name": "Python 2",
   "language": "python",
   "name": "python2"
  },
  "language_info": {
   "codemirror_mode": {
    "name": "ipython",
    "version": 2
   },
   "file_extension": ".py",
   "mimetype": "text/x-python",
   "name": "python",
   "nbconvert_exporter": "python",
   "pygments_lexer": "ipython2",
   "version": "2.7.13"
  }
 },
 "nbformat": 4,
 "nbformat_minor": 1
}
